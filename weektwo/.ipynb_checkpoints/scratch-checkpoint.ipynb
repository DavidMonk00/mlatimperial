{
 "cells": [
  {
   "cell_type": "code",
   "execution_count": 1,
   "metadata": {},
   "outputs": [],
   "source": [
    "import numpy as np\n",
    "import torchvision\n",
    "import torch\n",
    "from matplotlib import pyplot as plt"
   ]
  },
  {
   "cell_type": "code",
   "execution_count": 2,
   "metadata": {},
   "outputs": [],
   "source": [
    "X = np.random.randint(256, size=(100*3*64*64)).reshape(100,3,64,64)"
   ]
  },
  {
   "cell_type": "code",
   "execution_count": 3,
   "metadata": {},
   "outputs": [],
   "source": [
    "Xt = torch.FloatTensor(X)"
   ]
  },
  {
   "cell_type": "code",
   "execution_count": 4,
   "metadata": {},
   "outputs": [],
   "source": [
    "transform = torchvision.transforms.RandomErasing()"
   ]
  },
  {
   "cell_type": "code",
   "execution_count": 7,
   "metadata": {},
   "outputs": [
    {
     "data": {
      "text/plain": [
       "tensor([[[191.,  63., 226.,  ..., 189., 104.,  75.],\n",
       "         [127.,  32., 236.,  ..., 112.,   1., 233.],\n",
       "         [130., 140., 204.,  ..., 116., 191., 153.],\n",
       "         ...,\n",
       "         [ 40., 121.,   2.,  ..., 166., 200., 243.],\n",
       "         [131., 138., 243.,  ..., 139., 155.,  59.],\n",
       "         [ 53.,  82., 126.,  ...,  61.,  85., 201.]],\n",
       "\n",
       "        [[ 31.,  20., 225.,  ..., 233.,  21., 176.],\n",
       "         [199., 135.,  87.,  ...,  94.,  75., 171.],\n",
       "         [239., 124., 194.,  ..., 215., 212., 172.],\n",
       "         ...,\n",
       "         [213.,  41., 227.,  ..., 203., 238.,  25.],\n",
       "         [127., 197., 234.,  ...,  11.,  23., 212.],\n",
       "         [253., 113.,  80.,  ..., 131., 244., 231.]],\n",
       "\n",
       "        [[231., 126.,  45.,  ..., 178.,  52.,  22.],\n",
       "         [250.,   4.,  88.,  ...,   6., 169.,  16.],\n",
       "         [ 75., 235., 183.,  ..., 182.,   7.,  86.],\n",
       "         ...,\n",
       "         [ 40., 138., 156.,  ..., 231., 184., 186.],\n",
       "         [ 80.,  58., 252.,  ..., 198., 115., 244.],\n",
       "         [225.,  43.,  57.,  ...,  94.,  70.,  64.]],\n",
       "\n",
       "        ...,\n",
       "\n",
       "        [[136., 148.,  30.,  ...,  97., 137., 232.],\n",
       "         [ 74., 183., 204.,  ...,  27., 145.,   3.],\n",
       "         [211.,  62.,  84.,  ..., 103.,   5., 190.],\n",
       "         ...,\n",
       "         [138., 202.,  97.,  ..., 236., 175., 240.],\n",
       "         [252.,  31., 115.,  ..., 207., 214.,  30.],\n",
       "         [169., 167., 137.,  ..., 122., 242., 251.]],\n",
       "\n",
       "        [[ 33., 151., 117.,  ..., 163.,  29., 177.],\n",
       "         [ 46., 160.,  33.,  ...,  76., 203., 219.],\n",
       "         [179.,  19.,  90.,  ...,  64., 221.,  65.],\n",
       "         ...,\n",
       "         [146.,  11.,  41.,  ..., 149., 225.,  45.],\n",
       "         [205., 134.,  57.,  ..., 252.,  94.,  51.],\n",
       "         [ 62., 187.,  88.,  ..., 117., 251.,  58.]],\n",
       "\n",
       "        [[ 72., 121., 201.,  ..., 211., 243., 193.],\n",
       "         [133.,  90., 184.,  ..., 117.,  75., 171.],\n",
       "         [ 85.,  91.,  18.,  ..., 186., 123., 175.],\n",
       "         ...,\n",
       "         [ 84., 134., 203.,  ..., 108.,  31.,  14.],\n",
       "         [ 18., 243., 209.,  ..., 107.,  15., 200.],\n",
       "         [ 93., 111., 178.,  ...,  36., 242., 151.]]])"
      ]
     },
     "execution_count": 7,
     "metadata": {},
     "output_type": "execute_result"
    }
   ],
   "source": [
    "torch.cat([transform(i) for i in Xt])"
   ]
  },
  {
   "cell_type": "code",
   "execution_count": null,
   "metadata": {},
   "outputs": [],
   "source": []
  }
 ],
 "metadata": {
  "kernelspec": {
   "display_name": "Python (ml)",
   "language": "python",
   "name": "ml"
  },
  "language_info": {
   "codemirror_mode": {
    "name": "ipython",
    "version": 3
   },
   "file_extension": ".py",
   "mimetype": "text/x-python",
   "name": "python",
   "nbconvert_exporter": "python",
   "pygments_lexer": "ipython3",
   "version": "3.7.6"
  }
 },
 "nbformat": 4,
 "nbformat_minor": 2
}
